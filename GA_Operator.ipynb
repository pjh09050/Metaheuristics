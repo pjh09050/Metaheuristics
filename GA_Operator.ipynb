{
 "cells": [
  {
   "attachments": {},
   "cell_type": "markdown",
   "metadata": {},
   "source": [
    " Single Point Crossover는 간단하고 빠른 방법으로 자식 개체를 생성할 수 있으며, \\\n",
    " Job Crossover는 작업 순서와 관련된 제약 조건을 고려하여 유전자를 교환하므로, job shop scheduling 문제에서 더 좋은 성능을 발휘. \\\n",
    " Assigment Crossover는 작업과 담당자 간의 제약 조건을 고려하여 유전자를 교환하므로, job assignment 문제에서 더 좋은 성능을 발휘."
   ]
  },
  {
   "cell_type": "code",
   "execution_count": 1,
   "metadata": {},
   "outputs": [
    {
     "name": "stdout",
     "output_type": "stream",
     "text": [
      "Parent 1: [[1, 1], [2, 1], [1, 2], [2, 2], [5, 1], [5, 2], [5, 3], [1, 3], [2, 3], [1, 4], [3, 1], [4, 1], [3, 2], [3, 3], [2, 4], [4, 2]]\n",
      "Parent 2: [[5, 1], [1, 1], [3, 1], [4, 1], [2, 1], [1, 2], [3, 2], [2, 2], [3, 3], [2, 3], [5, 2], [1, 3], [2, 4], [5, 3], [1, 4], [4, 2]]\n",
      "Crossover point : 2\n",
      "Child 1 : [[1, 1], [2, 1], [5, 1], [3, 1], [4, 1], [1, 2], [3, 2], [2, 2], [3, 3], [2, 3], [5, 2], [1, 3], [2, 4], [5, 3], [1, 4], [4, 2]]\n"
     ]
    }
   ],
   "source": [
    "import random\n",
    " \n",
    "parent1 = [[1,1], [2,1], [1,2], [2,2], [5,1], [5,2], [5,3], [1,3], [2,3], [1,4], [3,1], [4,1], [3,2],[3,3], [2,4], [4,2]]\n",
    "parent2 = [[5,1], [1,1], [3,1], [4,1], [2,1], [1,2], [3,2], [2,2], [3,3], [2,3], [5,2], [1,3], [2,4], [5,3], [1,4], [4,2]]\n",
    "\n",
    "### SCO\n",
    "def single_point_crossover(p1, p2):\n",
    "    cross_point = random.randint(1, len(p1)-1)\n",
    "    child1 = p1[:cross_point]\n",
    "\n",
    "    for gene in p2:\n",
    "        if gene not in child1:\n",
    "            child1.append(gene)\n",
    "            \n",
    "    return child1,  cross_point\n",
    "\n",
    "child1, cross_point = single_point_crossover(parent1, parent2)\n",
    "print(\"Parent 1:\", parent1)\n",
    "print(\"Parent 2:\", parent2)\n",
    "print(\"Crossover point :\", cross_point)\n",
    "print(\"Child 1 :\", child1)\n"
   ]
  },
  {
   "cell_type": "code",
   "execution_count": 11,
   "metadata": {},
   "outputs": [
    {
     "name": "stdout",
     "output_type": "stream",
     "text": [
      "Parent 1: [[1, 1], [2, 1], [1, 2], [2, 2], [5, 1], [5, 2], [5, 3], [1, 3], [2, 3], [1, 4], [3, 1], [4, 1], [3, 2], [3, 3], [2, 4], [4, 2]]\n",
      "Parent 2: [[5, 1], [1, 1], [3, 1], [4, 1], [2, 1], [1, 2], [3, 2], [2, 2], [3, 3], [2, 3], [5, 2], [1, 3], [2, 4], [5, 3], [1, 4], [4, 2]]\n",
      "Selected jobs: [4]\n",
      "missing_list : [[5, 1], [1, 1], [3, 1], [2, 1], [1, 2], [3, 2], [2, 2], [3, 3], [2, 3], [5, 2], [1, 3], [2, 4], [5, 3], [1, 4]]\n",
      "Child 1 : [[5, 1], [1, 1], [3, 1], [2, 1], [1, 2], [3, 2], [2, 2], [3, 3], [2, 3], [5, 2], [1, 3], [4, 1], [2, 4], [5, 3], [1, 4], [4, 2]]\n"
     ]
    }
   ],
   "source": [
    "import random\n",
    "import numpy as np\n",
    "\n",
    "parent1 = [[1,1], [2,1], [1,2], [2,2], [5,1], [5,2], [5,3], [1,3], [2,3], [1,4], [3,1], [4,1], [3,2], [3,3], [2,4], [4,2]]\n",
    "parent2 = [[5,1], [1,1], [3,1], [4,1], [2,1], [1,2], [3,2], [2,2], [3,3], [2,3], [5,2], [1,3], [2,4], [5,3], [1,4], [4,2]]\n",
    "\n",
    "### JCO\n",
    "def job_crossover(p1,p2):\n",
    "    # 0. parent1 과 같은 크기의 child1 빈리스트 생성\n",
    "    child1 = [[] for _ in range(len(p1))]\n",
    "    \n",
    "    # 1. parent1에서 job 선택 \n",
    "    max_job = max([elem[0] for elem in parent1])\n",
    "    #num_jobs_select = 2 # (지정한 갯수만큼)\n",
    "    num_jobs_select = random.randint(1,max_job-1) # (랜덤)\n",
    "    selected_jobs = np.random.choice(list(set([elem[0] for elem in p1])), size=num_jobs_select, replace=False)\n",
    "\n",
    "    # 2. parent1에서 선택된 job 숫자에 해당하는 리스트를 child1에 같은 인덱스에 그대로 추가\n",
    "    for i, p1 in enumerate(p1): # enumerate(인덱스와 원소를 동시에 접근)\n",
    "        if p1[0] in selected_jobs:\n",
    "            child1[i] = p1\n",
    "\n",
    "    # 3. parent2에서 child1에 없는 리스트 출력\n",
    "    missing = []\n",
    "    for p2 in parent2:\n",
    "        if [p2[0], p2[1]] not in child1:\n",
    "            missing.append([p2[0], p2[1]])\n",
    "    missing_list = missing[:]\n",
    "    \n",
    "    # 4. Missing 리스트를 child1 비어있는 위치 앞에서부터 추가 \n",
    "    for i, c in enumerate(child1):\n",
    "        if c == []:\n",
    "            child1[i] = missing.pop(0) # 복사한 missing 리스트에서 첫 번째 원소 반환\n",
    "    \n",
    "    return child1, selected_jobs, missing_list\n",
    "\n",
    "child1, selected_jobs, missing_list = job_crossover(parent1, parent2)\n",
    "print(\"Parent 1:\", parent1)\n",
    "print(\"Parent 2:\", parent2)\n",
    "print(\"Selected jobs:\", selected_jobs)\n",
    "print(\"missing_list :\", missing_list)\n",
    "print(\"Child 1 :\", child1)"
   ]
  },
  {
   "cell_type": "code",
   "execution_count": 6,
   "metadata": {},
   "outputs": [
    {
     "name": "stdout",
     "output_type": "stream",
     "text": [
      "Parent 1: [[1, 1, 2], [2, 1, 4], [1, 2, 4], [2, 2, 3], [5, 1, 2], [5, 2, 2], [5, 3, 2], [1, 3, 4], [2, 3, 2], [1, 4, 4], [3, 1, 1], [4, 1, 1], [3, 2, 1], [3, 3, 1], [2, 4, 1], [4, 2, 4]]\n",
      "Parent 2: [[5, 1, 4], [1, 1, 2], [3, 1, 2], [4, 1, 3], [2, 1, 1], [1, 2, 1], [3, 2, 1], [2, 2, 4], [3, 3, 3], [2, 3, 1], [5, 2, 4], [1, 3, 4], [2, 4, 4], [5, 3, 1], [1, 4, 3], [4, 2, 1]]\n",
      "Child 1 : [[1, 1, 2], [2, 1, 1], [1, 2, 1], [2, 2, 4], [5, 1, 4], [5, 2, 4], [5, 3, 1], [1, 3, 4], [2, 3, 1], [1, 4, 3], [3, 1, 2], [4, 1, 3], [3, 2, 1], [3, 3, 3], [2, 4, 4], [4, 2, 1]]\n"
     ]
    }
   ],
   "source": [
    "import random\n",
    "\n",
    "parent1 = [[1,1,2],[2,1,4],[1,2,4],[2,2,3],[5,1,2],[5,2,2],[5,3,2],[1,3,4],[2,3,2],[1,4,4],[3,1,1],[4,1,1],[3,2,1],[3,3,1],[2,4,1],[4,2,4]]\n",
    "parent2 = [[5,1,4],[1,1,2],[3,1,2],[4,1,3],[2,1,1],[1,2,1],[3,2,1],[2,2,4],[3,3,3],[2,3,1],[5,2,4],[1,3,4],[2,4,4],[5,3,1],[1,4,3],[4,2,1]]\n",
    "\n",
    "### ACO\n",
    "def assignment_crossover(p1,p2):\n",
    "    # 0. parent1 과 같은 크기의 child1 빈리스트 생성\n",
    "    child1 = [[] for _ in range(len(p1))]\n",
    "\n",
    "    # 1. parent1에서 machine을 빈칸으로 만들고 child1에 할당\n",
    "    for i, elem in enumerate(p1):\n",
    "        child1[i] = [elem[0], elem[1], 0]\n",
    "\n",
    "    # 2. parent2 앞에서부터 parent2 job, operation과 child1 job, opreation이 같은 곳에 child1 machine 추가\n",
    "    for i, elem1 in enumerate(p2):\n",
    "        job, op , mach = elem1\n",
    "        for j, elem2 in enumerate(child1):\n",
    "            if elem2[0] == job and elem2[1] == op:\n",
    "                child1[j][2] = mach\n",
    "                break\n",
    "\n",
    "    return child1\n",
    "\n",
    "child1 = assignment_crossover(parent1, parent2)\n",
    "\n",
    "print(\"Parent 1:\", parent1)\n",
    "print(\"Parent 2:\", parent2)\n",
    "print(\"Child 1 :\", child1)"
   ]
  }
 ],
 "metadata": {
  "kernelspec": {
   "display_name": "base",
   "language": "python",
   "name": "python3"
  },
  "language_info": {
   "codemirror_mode": {
    "name": "ipython",
    "version": 3
   },
   "file_extension": ".py",
   "mimetype": "text/x-python",
   "name": "python",
   "nbconvert_exporter": "python",
   "pygments_lexer": "ipython3",
   "version": "3.9.13"
  },
  "orig_nbformat": 4,
  "vscode": {
   "interpreter": {
    "hash": "c1124073dee199d8e1894afd18905e6ab65c2b78c2f71f2204c8c819619ccb15"
   }
  }
 },
 "nbformat": 4,
 "nbformat_minor": 2
}
